{
  "nbformat": 4,
  "nbformat_minor": 0,
  "metadata": {
    "colab": {
      "provenance": []
    },
    "kernelspec": {
      "name": "python3",
      "display_name": "Python 3"
    },
    "language_info": {
      "name": "python"
    }
  },
  "cells": [
    {
      "cell_type": "markdown",
      "source": [
        "# Data Resampling Tool\n",
        "### - Vedant Naik"
      ],
      "metadata": {
        "id": "4PQ4dUx78F_Q"
      }
    },
    {
      "cell_type": "markdown",
      "source": [
        "Resampling time series datasets at specific frequencies has consistently been an essential task, especially considering that actual measurements from physical systems often contain errors. These errors can pose challenges when integrating such data with other systems or attempting to mitigate noise. The tool or Python function is designed to address the issue of unevenly sampled data, striving to resample it as effectively as possible."
      ],
      "metadata": {
        "id": "-GoRrBA37WHT"
      }
    },
    {
      "cell_type": "code",
      "execution_count": 17,
      "metadata": {
        "id": "JBzFnyR_5l-b"
      },
      "outputs": [],
      "source": [
        "import pandas as pd\n",
        "import numpy as np\n",
        "\n",
        "def resample_data_corrected(df, time_col_name, target_hz):\n",
        "    \"\"\"\n",
        "    Resample a DataFrame with time in milliseconds to a specified Hertz (Hz).\n",
        "\n",
        "    Parameters:\n",
        "    - df: DataFrame containing the data.\n",
        "    - time_col_name: The name of the column with timestamps in milliseconds.\n",
        "    - target_hz: The desired resampling frequency in Hertz (Hz).\n",
        "\n",
        "    Returns:\n",
        "    - DataFrame resampled to the desired frequency.\n",
        "    \"\"\"\n",
        "\n",
        "    # Convert milliseconds to a datetime index\n",
        "    df['timestamp'] = pd.to_datetime(df[time_col_name], unit='ms')\n",
        "    df = df.set_index('timestamp')\n",
        "\n",
        "    # Calculate the target resampling period\n",
        "    target_period = f'{int(1000/target_hz)}L'\n",
        "\n",
        "    # Resample and interpolate\n",
        "    df_resampled = df.resample(target_period).mean()\n",
        "    df_interpolated = df_resampled.interpolate(method='time')\n",
        "\n",
        "    return df_interpolated\n",
        "\n"
      ]
    },
    {
      "cell_type": "code",
      "source": [
        "# Example Usage if needed ...\n",
        "df = pd.DataFrame({'time_ms': [0, 500, 1500, 2500, 3500], 'data': [1, 2, 3, 4, 5]})\n",
        "target_hz = 4  # Desired sampling rate in Hz\n",
        "resampled_df = resample_data_corrected(df, 'time_ms', target_hz)"
      ],
      "metadata": {
        "id": "xtbcm9jY50bF"
      },
      "execution_count": 20,
      "outputs": []
    },
    {
      "cell_type": "code",
      "source": [
        "print(resampled_df)"
      ],
      "metadata": {
        "colab": {
          "base_uri": "https://localhost:8080/"
        },
        "id": "JX7bo5yi549e",
        "outputId": "9ad6f5e7-4332-4228-e05b-4e68dcd6b4f7"
      },
      "execution_count": 21,
      "outputs": [
        {
          "output_type": "stream",
          "name": "stdout",
          "text": [
            "                         time_ms  data\n",
            "timestamp                             \n",
            "1970-01-01 00:00:00.000      0.0  1.00\n",
            "1970-01-01 00:00:00.250    250.0  1.50\n",
            "1970-01-01 00:00:00.500    500.0  2.00\n",
            "1970-01-01 00:00:00.750    750.0  2.25\n",
            "1970-01-01 00:00:01.000   1000.0  2.50\n",
            "1970-01-01 00:00:01.250   1250.0  2.75\n",
            "1970-01-01 00:00:01.500   1500.0  3.00\n",
            "1970-01-01 00:00:01.750   1750.0  3.25\n",
            "1970-01-01 00:00:02.000   2000.0  3.50\n",
            "1970-01-01 00:00:02.250   2250.0  3.75\n",
            "1970-01-01 00:00:02.500   2500.0  4.00\n",
            "1970-01-01 00:00:02.750   2750.0  4.25\n",
            "1970-01-01 00:00:03.000   3000.0  4.50\n",
            "1970-01-01 00:00:03.250   3250.0  4.75\n",
            "1970-01-01 00:00:03.500   3500.0  5.00\n"
          ]
        }
      ]
    }
  ]
}